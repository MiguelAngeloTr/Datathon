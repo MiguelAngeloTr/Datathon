{
  "cells": [
    {
      "cell_type": "markdown",
      "metadata": {
        "id": "view-in-github",
        "colab_type": "text"
      },
      "source": [
        "<a href=\"https://colab.research.google.com/github/MiguelAngeloTr/Datathon/blob/main/Exploring_Models_GridSearch.ipynb\" target=\"_parent\"><img src=\"https://colab.research.google.com/assets/colab-badge.svg\" alt=\"Open In Colab\"/></a>"
      ]
    },
    {
      "cell_type": "markdown",
      "metadata": {
        "id": "6mRHDtEBo1p6"
      },
      "source": [
        "### Libraries"
      ]
    },
    {
      "cell_type": "code",
      "execution_count": null,
      "metadata": {
        "id": "u41S8Fq6o1p-"
      },
      "outputs": [],
      "source": [
        "# === 1. IMPORTS ===\n",
        "from sklearn.model_selection import train_test_split, StratifiedKFold, GridSearchCV\n",
        "from sklearn.preprocessing import StandardScaler\n",
        "from sklearn.pipeline import Pipeline\n",
        "from sklearn.metrics import accuracy_score, f1_score, roc_auc_score\n",
        "from sklearn.linear_model import LogisticRegression\n",
        "from sklearn.neighbors import KNeighborsClassifier\n",
        "from sklearn.tree import DecisionTreeClassifier\n",
        "from sklearn.ensemble import RandomForestClassifier\n",
        "from sklearn.svm import SVC\n",
        "import pandas as pd\n",
        "from imblearn.over_sampling import SMOTE\n",
        "\n",
        "seed = 45"
      ]
    },
    {
      "cell_type": "code",
      "execution_count": null,
      "metadata": {
        "id": "ffUm5xb0o1qB"
      },
      "outputs": [],
      "source": [
        "# Display and Print Full Functions\n",
        "def display_full(x, max_row=None):\n",
        "    pd.set_option('display.max_rows', max_row)\n",
        "    pd.set_option('display.max_columns', None)\n",
        "    pd.set_option('display.width', 2000)\n",
        "    pd.set_option('display.float_format', '{:5,.2f}'.format)\n",
        "    pd.set_option('display.max_colwidth', None)\n",
        "    print(f'Shape: {x.shape}')\n",
        "    display(x.head(max_row))\n",
        "    pd.reset_option('display.max_rows')\n",
        "    pd.reset_option('display.max_columns')\n",
        "    pd.reset_option('display.width')\n",
        "    pd.reset_option('display.float_format')\n",
        "    pd.reset_option('display.max_colwidth')\n",
        "\n",
        "def print_full(x, max_row=None):\n",
        "\n",
        "    pd.set_option('display.max_rows', max_row)\n",
        "    pd.set_option('display.max_columns', None)\n",
        "    pd.set_option('display.width', 2000)\n",
        "    pd.set_option('display.float_format', '{:5,.2f}'.format)\n",
        "    pd.set_option('display.max_colwidth', None)\n",
        "    print(f'Shape: {x.shape}')\n",
        "    print(x)\n",
        "    pd.reset_option('display.max_rows')\n",
        "    pd.reset_option('display.max_columns')\n",
        "    pd.reset_option('display.width')\n",
        "    pd.reset_option('display.float_format')\n",
        "    pd.reset_option('display.max_colwidth')\n"
      ]
    },
    {
      "cell_type": "code",
      "execution_count": null,
      "metadata": {
        "id": "ZEVze4Zso1qD",
        "outputId": "b29f5a92-9ba8-4451-f49b-9afed3cab366"
      },
      "outputs": [
        {
          "data": {
            "text/plain": [
              "106"
            ]
          },
          "execution_count": 17,
          "metadata": {},
          "output_type": "execute_result"
        }
      ],
      "source": [
        "# Open File\n",
        "file_dir = \"data_Tipo_Tejido_adjusted.csv\"\n",
        "df_raw = pd.read_csv(file_dir)\n",
        "len(df_raw.columns)"
      ]
    },
    {
      "cell_type": "markdown",
      "metadata": {
        "id": "Sugog988o1qF"
      },
      "source": [
        "### Creating Datasets"
      ]
    },
    {
      "cell_type": "code",
      "execution_count": null,
      "metadata": {
        "id": "azsM7mEKo1qG",
        "outputId": "69b6c3ad-2699-4596-a10e-b12617471ee3"
      },
      "outputs": [
        {
          "name": "stderr",
          "output_type": "stream",
          "text": [
            "C:\\Users\\danie\\AppData\\Local\\Temp\\ipykernel_4492\\147980067.py:29: FutureWarning: Downcasting behavior in `replace` is deprecated and will be removed in a future version. To retain the old behavior, explicitly call `result.infer_objects(copy=False)`. To opt-in to the future behavior, set `pd.set_option('future.no_silent_downcasting', True)`\n",
            "  df.replace({'Mammography_Equipment':{\"SIEMENS_Mammomat Inspiration\":0,\"SIEMENS_MAMMOMAT Revelation\":1}, \"Tipo_Tejido\":{'A':0, 'B':1,'C':2, 'D': 3}}, inplace=True)\n"
          ]
        }
      ],
      "source": [
        "# Preprocesar Dataset y Seaprar en Training y Test Datasets\n",
        "\n",
        "# Elimnar Columnas Reduntantes (Según análisis de correlación)\n",
        "cols_to_drop = [\n",
        "    'original_glrlm_ShortRunEmphasis',\n",
        "    'original_glszm_ZonePercentage',\n",
        "    'original_glrlm_RunPercentage',\n",
        "    'original_glszm_SizeZoneNonUniformityNormalized',\n",
        "    'original_glrlm_RunLengthNonUniformityNormalized',\n",
        "    'original_gldm_LargeDependenceEmphasis',\n",
        "    'original_gldm_SmallDependenceEmphasis',\n",
        "    'original_glcm_Idm',\n",
        "    'original_glcm_Id',\n",
        "    'original_glcm_InverseVariance',\n",
        "    'original_gldm_DependenceNonUniformityNormalized',\n",
        "    'original_gldm_DependenceVariance',\n",
        "    'original_glcm_DifferenceEntropy',\n",
        "    'original_firstorder_RobustMeanAbsoluteDeviation',\n",
        "    'original_glrlm_HighGrayLevelRunEmphasis',\n",
        "    'original_gldm_HighGrayLevelEmphasis',\n",
        "    'original_glcm_Autocorrelation',\n",
        "    'original_gldm_SmallDependenceHighGrayLevelEmphasis',\n",
        "    'original_glrlm_GrayLevelVariance'\n",
        "]\n",
        "df = df_raw.drop(columns=cols_to_drop) # Nos quedan 87 columnas, 86 de features y 1 de target.\n",
        "# df = df_raw\n",
        "\n",
        "# Codificar Variables Categóricas en Números\n",
        "df.replace({'Mammography_Equipment':{\"SIEMENS_Mammomat Inspiration\":0,\"SIEMENS_MAMMOMAT Revelation\":1}, \"Tipo_Tejido\":{'A':0, 'B':1,'C':2, 'D': 3}}, inplace=True)\n",
        "\n",
        "# Separar Variables y Target\n",
        "X = df.drop(columns=['Tipo_Tejido'])\n",
        "y = df['Tipo_Tejido'] # Separar Features (X) de Target (y)\n",
        "\n",
        "X_train_raw, X_test, y_train_raw, y_test = train_test_split(X,y, test_size=0.2, stratify=y, random_state=seed)\n",
        "\n",
        "smote = SMOTE(random_state=seed);\n",
        "X_train, y_train = smote.fit_resample(X_train_raw, y_train_raw)"
      ]
    },
    {
      "cell_type": "markdown",
      "metadata": {
        "id": "zFQZRFw7o1qH"
      },
      "source": [
        "### Training"
      ]
    },
    {
      "cell_type": "code",
      "execution_count": null,
      "metadata": {
        "id": "L7z6gyFno1qI"
      },
      "outputs": [],
      "source": [
        "models = {\n",
        "    'LogisticRegression': {\n",
        "        'model': LogisticRegression(max_iter=1000),\n",
        "        'params': {\n",
        "            'model__C': [0.1, 1, 10],\n",
        "            'model__penalty': ['l2'],\n",
        "            'model__solver': ['lbfgs']\n",
        "        }\n",
        "    },\n",
        "    'KNN': {\n",
        "        'model': KNeighborsClassifier(),\n",
        "        'params': {\n",
        "            'model__n_neighbors': [3, 5, 7],\n",
        "            'model__weights': ['uniform', 'distance']\n",
        "        }\n",
        "    },\n",
        "    'DecisionTree': {\n",
        "        'model': DecisionTreeClassifier(),\n",
        "        'params': {\n",
        "            'model__max_depth': [5, 10, 15],\n",
        "            'model__criterion': ['gini', 'entropy']\n",
        "        }\n",
        "    },\n",
        "    'RandomForest': {\n",
        "        'model': RandomForestClassifier(),\n",
        "        'params': {\n",
        "            'model__n_estimators': [100, 200],\n",
        "            'model__max_depth': [None, 10, 20],\n",
        "            'model__min_samples_split': [2, 5]\n",
        "        }\n",
        "    },\n",
        "    'SVM': {\n",
        "        'model': SVC(probability=True),\n",
        "        'params': {\n",
        "            'model__C': [0.1, 1, 10],\n",
        "            'model__kernel': ['linear', 'rbf']\n",
        "        }\n",
        "    }\n",
        "}\n"
      ]
    },
    {
      "cell_type": "code",
      "execution_count": null,
      "metadata": {
        "id": "QXi5vdO1o1qJ",
        "outputId": "ebe5cc44-71d5-4123-903b-4dcae5794c04"
      },
      "outputs": [
        {
          "name": "stdout",
          "output_type": "stream",
          "text": [
            "🔍 Entrenando y buscando hiperparámetros para LogisticRegression...\n",
            "🔍 Entrenando y buscando hiperparámetros para KNN...\n",
            "🔍 Entrenando y buscando hiperparámetros para DecisionTree...\n",
            "🔍 Entrenando y buscando hiperparámetros para RandomForest...\n",
            "🔍 Entrenando y buscando hiperparámetros para SVM...\n",
            "📊 COMPARACIÓN FINAL DE MODELOS:\n",
            "\n",
            "Modelo: LogisticRegression\n",
            "  - Mejor CV Accuracy:     0.7786\n",
            "  - Test Accuracy:         0.6611\n",
            "  - Test F1 Macro:         0.6521\n",
            "  - Test ROC AUC (OVR):    0.8851\n",
            "  - Mejores Hiperparámetros: {'model__C': 10, 'model__penalty': 'l2', 'model__solver': 'lbfgs'}\n",
            "--------------------------------------------------\n",
            "Modelo: KNN\n",
            "  - Mejor CV Accuracy:     0.8308\n",
            "  - Test Accuracy:         0.6421\n",
            "  - Test F1 Macro:         0.6102\n",
            "  - Test ROC AUC (OVR):    0.8388\n",
            "  - Mejores Hiperparámetros: {'model__n_neighbors': 3, 'model__weights': 'distance'}\n",
            "--------------------------------------------------\n",
            "Modelo: DecisionTree\n",
            "  - Mejor CV Accuracy:     0.7652\n",
            "  - Test Accuracy:         0.5558\n",
            "  - Test F1 Macro:         0.5185\n",
            "  - Test ROC AUC (OVR):    0.7070\n",
            "  - Mejores Hiperparámetros: {'model__criterion': 'gini', 'model__max_depth': 15}\n",
            "--------------------------------------------------\n",
            "Modelo: RandomForest\n",
            "  - Mejor CV Accuracy:     0.8421\n",
            "  - Test Accuracy:         0.6779\n",
            "  - Test F1 Macro:         0.6453\n",
            "  - Test ROC AUC (OVR):    0.8864\n",
            "  - Mejores Hiperparámetros: {'model__max_depth': 20, 'model__min_samples_split': 2, 'model__n_estimators': 200}\n",
            "--------------------------------------------------\n",
            "Modelo: SVM\n",
            "  - Mejor CV Accuracy:     0.8295\n",
            "  - Test Accuracy:         0.6821\n",
            "  - Test F1 Macro:         0.6424\n",
            "  - Test ROC AUC (OVR):    0.8771\n",
            "  - Mejores Hiperparámetros: {'model__C': 10, 'model__kernel': 'rbf'}\n",
            "--------------------------------------------------\n"
          ]
        }
      ],
      "source": [
        "# === 3. CROSS VALIDATION SETUP ===\n",
        "cv = StratifiedKFold(n_splits=5, shuffle=True, random_state=42)\n",
        "\n",
        "# === 4. ENTRENAMIENTO Y COMPARACIÓN ===\n",
        "results = {}\n",
        "\n",
        "for name, cfg in models.items():\n",
        "    print(f\"🔍 Entrenando y buscando hiperparámetros para {name}...\")\n",
        "\n",
        "    pipe = Pipeline([\n",
        "        ('scaler', StandardScaler()),\n",
        "        ('model', cfg['model'])\n",
        "    ])\n",
        "\n",
        "    grid = GridSearchCV(\n",
        "        estimator=pipe,\n",
        "        param_grid=cfg['params'],\n",
        "        scoring='f1_macro',  # o 'accuracy', 'roc_auc_ovr'\n",
        "        cv=cv,\n",
        "        n_jobs=-1,\n",
        "        verbose=0\n",
        "    )\n",
        "\n",
        "    grid.fit(X_train, y_train)\n",
        "\n",
        "    best_model = grid.best_estimator_\n",
        "    y_pred = best_model.predict(X_test)\n",
        "    y_proba = best_model.predict_proba(X_test)\n",
        "\n",
        "    results[name] = {\n",
        "        'best_params': grid.best_params_,\n",
        "        'cv_best_score': grid.best_score_,\n",
        "        'test_accuracy': accuracy_score(y_test, y_pred),\n",
        "        'test_f1_macro': f1_score(y_test, y_pred, average='macro'),\n",
        "        'test_roc_auc_ovr': roc_auc_score(y_test, y_proba, multi_class='ovr')\n",
        "    }\n",
        "\n",
        "print(\"📊 COMPARACIÓN FINAL DE MODELOS:\\n\")\n",
        "for name, res in results.items():\n",
        "    print(f\"Modelo: {name}\")\n",
        "    print(f\"  - Mejor CV Accuracy:     {res['cv_best_score']:.4f}\")\n",
        "    print(f\"  - Test Accuracy:         {res['test_accuracy']:.4f}\")\n",
        "    print(f\"  - Test F1 Macro:         {res['test_f1_macro']:.4f}\")\n",
        "    print(f\"  - Test ROC AUC (OVR):    {res['test_roc_auc_ovr']:.4f}\")\n",
        "    print(f\"  - Mejores Hiperparámetros: {res['best_params']}\")\n",
        "    print(\"--------------------------------------------------\")\n"
      ]
    },
    {
      "cell_type": "code",
      "execution_count": null,
      "metadata": {
        "id": "d_pRFGXHo1qL",
        "outputId": "c1243e9e-a008-4c8e-e241-2aec1df610a1"
      },
      "outputs": [
        {
          "name": "stdout",
          "output_type": "stream",
          "text": [
            "              precision    recall  f1-score   support\n",
            "\n",
            "           A       0.39      0.57      0.46        47\n",
            "           B       0.78      0.69      0.73       262\n",
            "           C       0.67      0.70      0.68       129\n",
            "           D       0.68      0.70      0.69        37\n",
            "\n",
            "    accuracy                           0.68       475\n",
            "   macro avg       0.63      0.67      0.64       475\n",
            "weighted avg       0.70      0.68      0.69       475\n",
            "\n"
          ]
        }
      ],
      "source": [
        "from sklearn.metrics import classification_report\n",
        "\n",
        "print(classification_report(y_test, y_pred, target_names=['A', 'B', 'C', 'D']))\n"
      ]
    },
    {
      "cell_type": "markdown",
      "metadata": {
        "id": "iNmuXh3po1qM"
      },
      "source": [
        "### Testing"
      ]
    }
  ],
  "metadata": {
    "kernelspec": {
      "display_name": "Python 3",
      "language": "python",
      "name": "python3"
    },
    "language_info": {
      "codemirror_mode": {
        "name": "ipython",
        "version": 3
      },
      "file_extension": ".py",
      "mimetype": "text/x-python",
      "name": "python",
      "nbconvert_exporter": "python",
      "pygments_lexer": "ipython3",
      "version": "3.13.2"
    },
    "colab": {
      "provenance": [],
      "include_colab_link": true
    }
  },
  "nbformat": 4,
  "nbformat_minor": 0
}